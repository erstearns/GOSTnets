{
 "cells": [
  {
   "cell_type": "code",
   "execution_count": 1,
   "metadata": {},
   "outputs": [],
   "source": [
    "import os, sys, time\n",
    "import rasterio\n",
    "\n",
    "import networkx as nx\n",
    "import geopandas as gpd\n",
    "import pandas as pd"
   ]
  },
  {
   "cell_type": "code",
   "execution_count": 2,
   "metadata": {},
   "outputs": [],
   "source": [
    "# add to your system path the location of the LoadOSM.py and GOSTnet.py scripts\n",
    "sys.path.append(\"../\")\n",
    "import GOSTnets as gn"
   ]
  },
  {
   "cell_type": "code",
   "execution_count": 3,
   "metadata": {},
   "outputs": [],
   "source": [
    "pth = \"./\" # change this path to your working folder\n",
    "G = nx.read_gpickle(os.path.join(pth, 'tutorial_outputs', r'iceland_network_clean.pickle'))"
   ]
  },
  {
   "cell_type": "code",
   "execution_count": 4,
   "metadata": {},
   "outputs": [],
   "source": [
    "G_time = gn.convert_network_to_time(G, distance_tag = 'length', road_col = 'infra_type', factor = 1000)"
   ]
  },
  {
   "cell_type": "markdown",
   "metadata": {},
   "source": [
    "# Gravity calculations\n",
    "\n",
    "When we discuss gravity calculations, we are combining two measures to identify the attractiveness between pairs of locations\n",
    "1. Travel time between origins and destinations\n",
    "2. Weight of the value of interest at both the origin and destination\n",
    "\n",
    "‘Market access’ is a measure of accessibility from one origin to all destinations, based purely on time. The outcome of this analysis is often visualized as an ‘isochrone’, centered on a given origin point. Isochrones depict how far away from the origin you can move, in all directions, within a certain time frame. (E.g. 1 hour).\n",
    "\n",
    "‘Market potential’ can be assessed by weighting all potential destinations by a factor designed to represent their attractiveness to the origin point. In the context of performing commercial site selection, such factors might include GDP per capita or population (positively related), or the number of other firms (negatively related). We refer to each origin – destination pair as an ‘O-D’ pair, and the matrix of travel times from all origin points to all destination points as an ‘O-D matrix’. An example of such a matrix is given below for five origin and destination points, A to E:"
   ]
  },
  {
   "cell_type": "code",
   "execution_count": 5,
   "metadata": {},
   "outputs": [],
   "source": [
    "# Sample rek_grid with population\n",
    "rek_grid_file = os.path.join(pth, \"tutorial_data\", \"rek_grid.shp\")\n",
    "rek_pop_grid_file = rek_grid_file.replace(\".shp\", \"_pop.shp\")\n",
    "if not os.path.exists(rek_pop_grid_file):\n",
    "    population_data = \"R:\\GLOBAL\\POP&DEMO\\LandScan_2012\\lspop2012.tif\"\n",
    "\n",
    "    in_grid = gpd.read_file(rek_grid_file)    \n",
    "    in_pop = rasterio.open(population_data)\n",
    "    in_grid = in_grid.to_crs(in_pop.crs)\n",
    "\n",
    "    geoms = ([x.x, x.y] for x in in_grid['geometry'])\n",
    "    vals = in_pop.sample(geoms)\n",
    "    in_grid['Pop'] = [x[0]+1 for x in vals]\n",
    "    \n",
    "    in_grid.to_file(rek_pop_grid_file)"
   ]
  },
  {
   "cell_type": "code",
   "execution_count": 6,
   "metadata": {},
   "outputs": [],
   "source": [
    "rek_grid = gpd.read_file(rek_pop_grid_file)\n",
    "churches_file = os.path.join(pth, \"tutorial_data\", \"churches.shp\")\n",
    "in_churches = gpd.read_file(churches_file)\n",
    "in_churches = in_churches.to_crs(rek_grid.crs)"
   ]
  },
  {
   "cell_type": "code",
   "execution_count": 7,
   "metadata": {},
   "outputs": [],
   "source": [
    "origins_df = gn.pandana_snap_c(G_time, rek_grid, source_crs='epsg:4326', target_crs='epsg:4326',add_dist_to_node_col = True)\n",
    "origins = list(set(origins_df['NN']))\n",
    "destinations_df = gn.pandana_snap_c(G_time, in_churches, source_crs='epsg:4326', target_crs='epsg:4326',add_dist_to_node_col = True)\n",
    "destinations = list(set(destinations_df['NN']))"
   ]
  },
  {
   "cell_type": "code",
   "execution_count": 8,
   "metadata": {},
   "outputs": [],
   "source": [
    "OD = gn.calculate_OD(G_time, origins, destinations, fail_value = 9999999)"
   ]
  },
  {
   "cell_type": "code",
   "execution_count": 10,
   "metadata": {},
   "outputs": [],
   "source": [
    "import GOSTnets.calculate_od_raw as calcOD\n",
    "gravity = calcOD.calculate_gravity(OD, oWeight=[1] * OD.shape[0], dWeight = destinations_df['Pop'])\n",
    "gravity['NN'] = origins"
   ]
  },
  {
   "cell_type": "code",
   "execution_count": 19,
   "metadata": {},
   "outputs": [],
   "source": [
    "pd.merge?"
   ]
  },
  {
   "cell_type": "code",
   "execution_count": 21,
   "metadata": {},
   "outputs": [],
   "source": [
    "origins_gravity = pd.merge(origins_df, gravity, on=\"NN\")\n",
    "origins_gravity.to_file(rek_pop_grid_file.replace(\".shp\", \"_gravity.shp\"))"
   ]
  },
  {
   "cell_type": "code",
   "execution_count": null,
   "metadata": {},
   "outputs": [],
   "source": []
  }
 ],
 "metadata": {
  "kernelspec": {
   "display_name": "Python (geog)",
   "language": "python",
   "name": "geog"
  },
  "language_info": {
   "codemirror_mode": {
    "name": "ipython",
    "version": 3
   },
   "file_extension": ".py",
   "mimetype": "text/x-python",
   "name": "python",
   "nbconvert_exporter": "python",
   "pygments_lexer": "ipython3",
   "version": "3.6.7"
  }
 },
 "nbformat": 4,
 "nbformat_minor": 2
}
