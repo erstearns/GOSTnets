{
 "cells": [
  {
   "cell_type": "markdown",
   "metadata": {},
   "source": [
    "# Step 2: Clean Network\n",
    "\n",
    "This is a further post-processing function now found within the network_clean GOSTnets submodule. This function cleans the network by removing excessive nodes, and ensures all edges are bi-directional (except in the case of one-way roads).\n",
    "\n",
    "WARNING: The Clean Network function is a computationally expensive function, so it may take a while to run. It outputs a pickled graph object, a dataframe of the edges, and a dataframe of the nodes. The expectation is that this will only have to be run once."
   ]
  },
  {
   "cell_type": "code",
   "execution_count": 1,
   "metadata": {},
   "outputs": [],
   "source": [
    "import os, sys\n",
    "import time\n",
    "import networkx as nx"
   ]
  },
  {
   "cell_type": "code",
   "execution_count": 2,
   "metadata": {},
   "outputs": [],
   "source": [
    "# add to your system path the location of the LoadOSM.py and GOSTnet.py scripts\n",
    "sys.path.append(\"../\")\n",
    "import GOSTnets as gn"
   ]
  },
  {
   "cell_type": "code",
   "execution_count": 3,
   "metadata": {},
   "outputs": [],
   "source": [
    "# To become familiar with the function read the doc string\n",
    "gn.clean_network?"
   ]
  },
  {
   "cell_type": "markdown",
   "metadata": {},
   "source": [
    "Set up some parameters for the CleanNetwork function"
   ]
  },
  {
   "cell_type": "code",
   "execution_count": 4,
   "metadata": {},
   "outputs": [],
   "source": [
    "pth = \"./\" # change this path to your working folder\n",
    "data_pth = os.path.join(pth, 'tutorial_outputs')\n",
    "\n",
    "# read back your graph from step 1 from you saved pickle\n",
    "G = nx.read_gpickle(os.path.join(data_pth, 'iceland_unclean.pickle'))\n",
    "\n",
    "Iceland_UTMZ = {'init': 'epsg:32627'}\n",
    "\n",
    "WGS = {'init': 'epsg:4326'} # do not adjust. OSM natively comes in ESPG 4326"
   ]
  },
  {
   "cell_type": "markdown",
   "metadata": {},
   "source": [
    "Run the CleanNetwork Function. It will write the outputs in the specified wpath because we have verbose as True."
   ]
  },
  {
   "cell_type": "code",
   "execution_count": 5,
   "metadata": {},
   "outputs": [
    {
     "name": "stdout",
     "output_type": "stream",
     "text": [
      "start: Fri Jan 31 15:53:40 2020\n",
      "\n"
     ]
    },
    {
     "name": "stderr",
     "output_type": "stream",
     "text": [
      "/Users/thomasgertin3/anaconda3/envs/gostnets2/lib/python3.7/site-packages/pyproj-2.4.2.post1-py3.7-macosx-10.9-x86_64.egg/pyproj/crs.py:77: FutureWarning: '+init=<authority>:<code>' syntax is deprecated. '<authority>:<code>' is the preferred initialization method.\n",
      "  return _prepare_from_string(\" \".join(pjargs))\n",
      "/Users/thomasgertin3/anaconda3/envs/gostnets2/lib/python3.7/site-packages/pyproj-2.4.2.post1-py3.7-macosx-10.9-x86_64.egg/pyproj/crs.py:77: FutureWarning: '+init=<authority>:<code>' syntax is deprecated. '<authority>:<code>' is the preferred initialization method.\n",
      "  return _prepare_from_string(\" \".join(pjargs))\n"
     ]
    },
    {
     "name": "stdout",
     "output_type": "stream",
     "text": [
      "1903\n",
      "3454\n",
      "1543\n",
      "2919\n",
      "Edge reduction: 19463 to 2919 (85 percent)\n",
      "\n",
      "end: Fri Jan 31 15:54:20 2020\n",
      "\n",
      "--- processing complete\n"
     ]
    }
   ],
   "source": [
    "print('start: %s\\n' % time.ctime())\n",
    "gn.clean_network(G, wpath = data_pth, output_file_name = 'iceland_network', UTM = Iceland_UTMZ, WGS = {'init': 'epsg:4326'}, junctdist = 50, verbose = True)\n",
    "print('\\nend: %s' % time.ctime())\n",
    "print('\\n--- processing complete')"
   ]
  },
  {
   "cell_type": "markdown",
   "metadata": {
    "collapsed": true
   },
   "source": [
    "At this point, our road network is fully prepped. \n",
    "Move on to Step 3 to see how we can use this network for some travel time analysis!"
   ]
  }
 ],
 "metadata": {
  "kernelspec": {
   "display_name": "Python 3",
   "language": "python",
   "name": "python3"
  },
  "language_info": {
   "codemirror_mode": {
    "name": "ipython",
    "version": 3
   },
   "file_extension": ".py",
   "mimetype": "text/x-python",
   "name": "python",
   "nbconvert_exporter": "python",
   "pygments_lexer": "ipython3",
   "version": "3.7.6"
  }
 },
 "nbformat": 4,
 "nbformat_minor": 2
}
